{
 "cells": [
  {
   "cell_type": "markdown",
   "id": "76126b04-4758-467f-bf31-a36d3356458f",
   "metadata": {},
   "source": [
    "# Tables de hachage"
   ]
  },
  {
   "cell_type": "markdown",
   "id": "32551eab-b054-4072-b0a9-c4373bee54ee",
   "metadata": {},
   "source": [
    "## Librairies"
   ]
  },
  {
   "cell_type": "code",
   "execution_count": 46,
   "id": "a0ae2ace-b89c-411d-b012-9e598db1bfcc",
   "metadata": {},
   "outputs": [],
   "source": [
    "import numpy as np\n",
    "\n",
    "import matplotlib.pyplot as plt"
   ]
  },
  {
   "cell_type": "code",
   "execution_count": null,
   "id": "599c4f79-861f-4bf6-a063-efef0b0e90d8",
   "metadata": {},
   "outputs": [],
   "source": []
  },
  {
   "cell_type": "markdown",
   "id": "1183fdeb-23de-4a50-9cee-d22aac7b5fa8",
   "metadata": {},
   "source": [
    "## Classe"
   ]
  },
  {
   "cell_type": "code",
   "execution_count": 47,
   "id": "174311a3-1010-446b-b15a-5831f2e26a86",
   "metadata": {},
   "outputs": [],
   "source": [
    "class TableHachage():\n",
    "\n",
    "    def __init__(self, N, fct_hachage):\n",
    "\n",
    "        self.N = N\n",
    "        self.fct_hachage = fct_hachage\n",
    "        self.table = [None]*N\n",
    "        self.nb_collisions = 0\n",
    "        \n",
    "    def inserer(self, c):\n",
    "        \n",
    "        collision = True\n",
    "        i = 0\n",
    "        \n",
    "        while collision:\n",
    "            \n",
    "            indice = self.fct_hachage(c, i)\n",
    "            if self.table[indice] == None:\n",
    "                self.table[indice] = c\n",
    "                collision = False\n",
    "            else:\n",
    "                i += 1\n",
    "                self.nb_collisions += 1"
   ]
  },
  {
   "cell_type": "code",
   "execution_count": 48,
   "id": "b6e7f974-7a16-4c94-ae66-a0692c18d833",
   "metadata": {},
   "outputs": [],
   "source": [
    "N = 1023"
   ]
  },
  {
   "cell_type": "code",
   "execution_count": 129,
   "id": "19141565-a91c-40cc-8fea-bc430384817e",
   "metadata": {},
   "outputs": [],
   "source": [
    "# suite de fcts hachage: f(c, i) = f_i(c)\n",
    "def f1(c, i):\n",
    "    return (c + i) % N"
   ]
  },
  {
   "cell_type": "code",
   "execution_count": 130,
   "id": "856328b6-579b-4dce-a98b-a997d1c535c3",
   "metadata": {},
   "outputs": [],
   "source": [
    "def f2(c, i):\n",
    "    return (c + 3*i**2 + i) % N"
   ]
  },
  {
   "cell_type": "code",
   "execution_count": 131,
   "id": "3e004891-5a5c-4b0b-89fa-17b97225c4b6",
   "metadata": {},
   "outputs": [],
   "source": [
    "def f3(c, i):\n",
    "    return (c + 3*i**3 + 7*i**2 + 3*i) % N"
   ]
  },
  {
   "cell_type": "markdown",
   "id": "90da4bbf-9875-4f7f-8014-c233e8206fc3",
   "metadata": {},
   "source": [
    "## Expérience"
   ]
  },
  {
   "cell_type": "code",
   "execution_count": 132,
   "id": "2ff64d1f-8476-4bfe-b41a-5e93b4905070",
   "metadata": {},
   "outputs": [],
   "source": [
    "N = 1023"
   ]
  },
  {
   "cell_type": "code",
   "execution_count": 121,
   "id": "35c5aa0a-e14f-4622-8645-28f09b94cd3e",
   "metadata": {},
   "outputs": [],
   "source": [
    "def exp(f):\n",
    "\n",
    "    collisions_ll = []\n",
    "    \n",
    "    for i in range(50):\n",
    "    \n",
    "        table = TableHachage(N, f)\n",
    "        cles = np.random.choice(10000, size=N//2, replace=False)\n",
    "    \n",
    "        collisions_l = []\n",
    "        \n",
    "        for c in cles:\n",
    "            \n",
    "            table.inserer(c)\n",
    "            collisions_l.append(table.nb_collisions)\n",
    "    \n",
    "        collisions_ll.append(collisions_l)\n",
    "\n",
    "    return collisions_ll"
   ]
  },
  {
   "cell_type": "code",
   "execution_count": 122,
   "id": "9b1d0742-d0f3-4ceb-a3d1-7864d8450d1b",
   "metadata": {},
   "outputs": [],
   "source": [
    "collisions_ll_1 = exp(f1)\n",
    "collisions_ll_2 = exp(f2)\n",
    "collisions_ll_3 = exp(f3)"
   ]
  },
  {
   "cell_type": "code",
   "execution_count": 123,
   "id": "91649117-e5df-441e-8c48-1379321b59b5",
   "metadata": {},
   "outputs": [],
   "source": [
    "# np.array(collisions_ll_1)"
   ]
  },
  {
   "cell_type": "code",
   "execution_count": 124,
   "id": "94c16c8b-60d4-4027-8892-660fcb138a20",
   "metadata": {},
   "outputs": [],
   "source": [
    "collisions_mean_1 = np.mean(np.array(collisions_ll_1), axis=0)\n",
    "collisions_mean_2 = np.mean(np.array(collisions_ll_2), axis=0)\n",
    "collisions_mean_3 = np.mean(np.array(collisions_ll_3), axis=0)"
   ]
  },
  {
   "cell_type": "code",
   "execution_count": 134,
   "id": "e3e21659-aae9-4fe9-adfb-edd0871b22cc",
   "metadata": {},
   "outputs": [
    {
     "data": {
      "image/png": "[encoded data removed]",
      "text/plain": [
       "<Figure size 720x360 with 1 Axes>"
      ]
     },
     "metadata": {
      "needs_background": "light"
     },
     "output_type": "display_data"
    }
   ],
   "source": [
    "plt.figure(figsize=(10,5))\n",
    "\n",
    "plt.plot(collisions_mean_1, label=\"f1\")\n",
    "plt.plot(collisions_mean_2, label=\"f2\")\n",
    "plt.plot(collisions_mean_3, label=\"f3\")\n",
    "plt.xlabel(\"nb clés insérées\")\n",
    "plt.ylabel(\"nb collisions moyen (50 exp.)\")\n",
    "plt.legend()\n",
    "\n",
    "plt.show()"
   ]
  },
  {
   "cell_type": "code",
   "execution_count": null,
   "id": "052542fb-d551-4a8e-90e7-0c10fb717697",
   "metadata": {},
   "outputs": [],
   "source": []
  },
  {
   "cell_type": "code",
   "execution_count": null,
   "id": "26b01ad1-0b7e-4645-b212-7aebab8591c4",
   "metadata": {},
   "outputs": [],
   "source": []
  }
 ],
 "metadata": {
  "kernelspec": {
   "display_name": "Python 3 (ipykernel)",
   "language": "python",
   "name": "python3"
  },
  "language_info": {
   "codemirror_mode": {
    "name": "ipython",
    "version": 3
   },
   "file_extension": ".py",
   "mimetype": "text/x-python",
   "name": "python",
   "nbconvert_exporter": "python",
   "pygments_lexer": "ipython3",
   "version": "3.9.5"
  }
 },
 "nbformat": 4,
 "nbformat_minor": 5
}
