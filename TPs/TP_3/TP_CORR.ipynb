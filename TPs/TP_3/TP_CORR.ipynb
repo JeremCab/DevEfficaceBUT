{
 "cells": [
  {
   "cell_type": "markdown",
   "id": "daa8e22f",
   "metadata": {},
   "source": [
    "# Table de hachage à adressage ouvert"
   ]
  },
  {
   "cell_type": "markdown",
   "id": "f957740d",
   "metadata": {},
   "source": [
    "## Librairies"
   ]
  },
  {
   "cell_type": "code",
   "execution_count": 1,
   "id": "539fdfba",
   "metadata": {},
   "outputs": [],
   "source": [
    "import random\n",
    "import numpy as np\n",
    "import matplotlib.pyplot as plt"
   ]
  },
  {
   "cell_type": "markdown",
   "id": "6886cd71",
   "metadata": {},
   "source": [
    "## Table de hachage"
   ]
  },
  {
   "cell_type": "code",
   "execution_count": 2,
   "id": "33597f72",
   "metadata": {},
   "outputs": [],
   "source": [
    "class TableHachage():\n",
    "    \n",
    "    def __init__(self, N, f_hachage):\n",
    "        \"\"\"\n",
    "        Table de hachage qui range des entiers (clés) dans un tableau.\n",
    "        \n",
    "        Attributes\n",
    "        ----------\n",
    "        N : int\n",
    "            taille de la table de hachage\n",
    "        f_hachage : str\n",
    "            fonction de hachage\n",
    "        \"\"\"\n",
    "        self.N = N\n",
    "        self.f_hachage = f_hachage\n",
    "        self.table = [None] * N\n",
    "        self.nb_collisions = 0\n",
    "        \n",
    "    def inserer(self, cle):\n",
    "        \"\"\"\n",
    "        Si possible, insérer une clé dans la table de hachage\n",
    "        à l'aide de la fonction de hachage.\n",
    "        Compte également le nombre de collisions rencontrées au cours\n",
    "        du processus d'insertion et incrémente self.nb_collisions.\n",
    "        \n",
    "        Parameters\n",
    "        ----------\n",
    "        cle : int\n",
    "            cle à insérer dans la table de hachage\n",
    "        \"\"\"\n",
    "        \n",
    "        insertion = False\n",
    "        nb_tentatives = 1\n",
    "        \n",
    "        while insertion == False and nb_tentatives <= self.N:\n",
    "            \n",
    "            indice = self.f_hachage(cle, nb_tentatives)\n",
    "            \n",
    "            if self.table[indice] is None:\n",
    "                \n",
    "                self.table[indice] = cle\n",
    "                insertion = True\n",
    "                \n",
    "            else:\n",
    "                \n",
    "                nb_tentatives += 1\n",
    "        \n",
    "        # incrémente le nombre de collisions\n",
    "        self.nb_collisions += nb_tentatives - 1"
   ]
  },
  {
   "cell_type": "markdown",
   "id": "42217ae0",
   "metadata": {},
   "source": [
    "## Expériences"
   ]
  },
  {
   "cell_type": "markdown",
   "id": "c43441e3",
   "metadata": {},
   "source": [
    "Chaque expérience consiste à:\n",
    "- Tirer N//2 clés *différentes* aléatoirement dans l'ensemble [0,...,nb_cles]\n",
    "- Insérer les clés dans la table de hachage une par une (si possible) \n",
    "- Compter le nombre (cumulatif) de collisions lors des insertions successives"
   ]
  },
  {
   "cell_type": "code",
   "execution_count": 3,
   "id": "8c58cdfe",
   "metadata": {},
   "outputs": [],
   "source": [
    "N = 1023        # taille de la table\n",
    "nb_cles = 10000 # nombre de clés possibles"
   ]
  },
  {
   "cell_type": "code",
   "execution_count": 4,
   "id": "9a2bde77",
   "metadata": {},
   "outputs": [],
   "source": [
    "def experience(f, N=N):\n",
    "    \n",
    "    table = TableHachage(N, f)\n",
    "    compteur = []\n",
    "    \n",
    "    # tirage sans remise\n",
    "    cles = random.sample(range(nb_cles), N//2)\n",
    "    \n",
    "    for cle in cles:\n",
    "        \n",
    "        table.inserer(cle)\n",
    "        compteur.append(table.nb_collisions)\n",
    "        \n",
    "    return compteur"
   ]
  },
  {
   "cell_type": "markdown",
   "id": "b824a422",
   "metadata": {},
   "source": [
    "On considère $3$ fonctions de hachage différentes."
   ]
  },
  {
   "cell_type": "code",
   "execution_count": 5,
   "id": "eb6401ff",
   "metadata": {},
   "outputs": [],
   "source": [
    "def f_hachage1(cle, nb_tentatives):\n",
    "    \n",
    "    # nb_tentatives commence à 1, donc x à 0\n",
    "    x = nb_tentatives - 1\n",
    "    \n",
    "    return (cle + x) % N "
   ]
  },
  {
   "cell_type": "code",
   "execution_count": 6,
   "id": "dd48a6d5",
   "metadata": {},
   "outputs": [],
   "source": [
    "def f_hachage2(cle, nb_tentatives):\n",
    "    \n",
    "    # nb_tentatives commence à 1, donc x à 0\n",
    "    x = nb_tentatives - 1\n",
    "    \n",
    "    return (cle + 3*x**2 + x + 13) % N "
   ]
  },
  {
   "cell_type": "code",
   "execution_count": 7,
   "id": "33fb6905",
   "metadata": {},
   "outputs": [],
   "source": [
    "def f_hachage3(cle, nb_tentatives):\n",
    "    \n",
    "    # nb_tentatives commence à 1, donc x à 0\n",
    "    x = nb_tentatives - 1\n",
    "    \n",
    "    return (cle + 7*x**3 + 12*x**2 + 9*x + 17) % N "
   ]
  },
  {
   "cell_type": "markdown",
   "id": "3702ab4f",
   "metadata": {},
   "source": [
    "Pour chaque fonction de hachage, on fait la moyenne de $50$ expériences."
   ]
  },
  {
   "cell_type": "code",
   "execution_count": 8,
   "id": "63e74534",
   "metadata": {},
   "outputs": [],
   "source": [
    "# Pour chaque fonction de hachage, \n",
    "# on fait la moyenne de 50 tentatives...\n",
    "\n",
    "fonctions = [f_hachage1, f_hachage2, f_hachage3]\n",
    "nb_repetitions = 50\n",
    "\n",
    "res = {}   # résultats\n",
    "\n",
    "for i in range(3):\n",
    "    \n",
    "    res_i = [] # liste de listes\n",
    "\n",
    "    # 50 expériences\n",
    "    for n in range(nb_repetitions):\n",
    "\n",
    "        tmp = experience(fonctions[i])\n",
    "        res_i.append(tmp)\n",
    "\n",
    "    # moyennes des 50 expériences\n",
    "    res_i = np.array(res_i)\n",
    "    res_i = res_i.mean(axis=0)\n",
    "    \n",
    "    res[i] = res_i"
   ]
  },
  {
   "cell_type": "markdown",
   "id": "ee4bfcfd",
   "metadata": {},
   "source": [
    "## Graphique"
   ]
  },
  {
   "cell_type": "code",
   "execution_count": 9,
   "id": "d9ca409c",
   "metadata": {},
   "outputs": [
    {
     "data": {
      "image/png": "[encoded data removed]",
      "text/plain": [
       "<Figure size 720x360 with 1 Axes>"
      ]
     },
     "metadata": {
      "needs_background": "light"
     },
     "output_type": "display_data"
    }
   ],
   "source": [
    "fig, ax = plt.subplots(figsize=(10,5))\n",
    "\n",
    "for i in range(3):\n",
    "    ax.plot(range(len(res[i])), res[i], linewidth=2, label=f'fct de hachage: {i+1}')\n",
    "\n",
    "ax.set_xlabel(\"Nombre de clés insérées\")\n",
    "ax.set_ylabel(\"Nombre de collisions\")\n",
    "ax.set_title('Nombre cumulatif de collisions pour différents fonctions de hachage')\n",
    "ax.legend()\n",
    "\n",
    "plt.show()"
   ]
  },
  {
   "cell_type": "code",
   "execution_count": null,
   "id": "74cdb00a",
   "metadata": {},
   "outputs": [],
   "source": []
  }
 ],
 "metadata": {
  "kernelspec": {
   "display_name": "Python 3 (ipykernel)",
   "language": "python",
   "name": "python3"
  },
  "language_info": {
   "codemirror_mode": {
    "name": "ipython",
    "version": 3
   },
   "file_extension": ".py",
   "mimetype": "text/x-python",
   "name": "python",
   "nbconvert_exporter": "python",
   "pygments_lexer": "ipython3",
   "version": "3.9.17"
  }
 },
 "nbformat": 4,
 "nbformat_minor": 5
}
