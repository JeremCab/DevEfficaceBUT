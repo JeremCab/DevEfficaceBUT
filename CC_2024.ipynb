{
 "cells": [
  {
   "cell_type": "markdown",
   "id": "17601fd3-4891-4aae-b0c0-5120691ec2a8",
   "metadata": {},
   "source": [
    "# Contrôle de Développement Efficace\n",
    "16.10.2024"
   ]
  },
  {
   "cell_type": "markdown",
   "id": "0b219432-aff1-4e58-920f-0b525eac28bf",
   "metadata": {},
   "source": [
    "**Consignes:**\n",
    "- Aucune documentation autorisée, pas d'internet, travail individuel\n",
    "- Renommez ce fichier par `Nom_Prenom.ipynb`\n",
    "- Une fois le contrôle terminé, envoyez-moi votre ficher renommé à l'adressse:<br>\n",
    "jeremie.cabessa@uvsq.fr"
   ]
  },
  {
   "cell_type": "markdown",
   "id": "4297bc02-c30a-476e-a547-2c1fa8e29c9b",
   "metadata": {},
   "source": [
    "## Exercice 1"
   ]
  },
  {
   "cell_type": "markdown",
   "id": "5b2a166a-9a3e-41f6-8bc8-1a58ce126d1a",
   "metadata": {},
   "source": [
    "Dans cet exercice, vous allez implémenter une **liste doublement chaînée** en Python.\n",
    "\n",
    "Une **liste doublement chaînée** est une structure de données dans laquelle chaque élément (ou noeud) pointe à la fois vers le noeud précédent et le noeud suivant. La liste possède une `tete` et une `queue` correspondant à son premier et son dernier élément, respectivement.\n",
    "\n",
    "\n",
    "Vous devez implémenter cette structure de manière à pouvoir\n",
    "- tester si la liste est vide;\n",
    "- insérer un élément au début ou à la fin de la liste;\n",
    "- supprimer un élément au début ou à la fin de la liste;\n",
    "- Afficher les éléments de la list.\n",
    "\n",
    "Au final, votre classe devra permettre d'exécuter le code donné dans la cellule ci-dessous.\n",
    "\n",
    "**Indication:** n'oubliez pas que chaque noeud doit pointer vers un élément précédent et un élément suivant."
   ]
  },
  {
   "cell_type": "code",
   "execution_count": null,
   "id": "c74661c1-08a1-4ec4-99da-e0ff74af5d81",
   "metadata": {},
   "outputs": [],
   "source": []
  },
  {
   "cell_type": "code",
   "execution_count": null,
   "id": "0e51448d-e224-46c9-8d1e-293e893783a5",
   "metadata": {},
   "outputs": [],
   "source": []
  },
  {
   "cell_type": "code",
   "execution_count": null,
   "id": "6d98013c-9feb-4f03-ae19-d204a1b1c8cf",
   "metadata": {},
   "outputs": [],
   "source": []
  },
  {
   "cell_type": "code",
   "execution_count": null,
   "id": "626f0467-d58f-48b7-9dd5-4238838b03b3",
   "metadata": {},
   "outputs": [],
   "source": [
    "# Créer une liste doublement chaînée\n",
    "liste = ListeDoublementChainee()\n",
    "\n",
    "# Vérifier si la liste est vide\n",
    "print(liste.est_vide())              # Output: True\n",
    "\n",
    "# Insérer des éléments\n",
    "liste.inserer(10, position=\"fin\")    # Insère 10 à la fin\n",
    "liste.inserer(5, position=\"debut\")   # Insère 5 au début\n",
    "liste.inserer(15, position=\"debut\")  # Insère 15 au début\n",
    "liste.inserer(8, position=\"debut\")   # Insère 8 au début\n",
    "liste.inserer(7, position=\"fin\")     # Insère 7 à la fin\n",
    "\n",
    "# Afficher la liste\n",
    "liste.afficher()                     # Output: 8 <-> 15 <-> 5 <-> 10 <-> 7\n",
    "\n",
    "# Supprimer des éléments\n",
    "liste.supprimer(position=\"debut\")    # Supprime le premier élément\n",
    "liste.supprimer(position=\"fin\")      # Supprime le dernier élément\n",
    "\n",
    "# Afficher la liste\n",
    "liste.afficher()                     # Output: 15 <-> 5 <-> 10"
   ]
  },
  {
   "cell_type": "code",
   "execution_count": null,
   "id": "81fac782-b9f7-481c-9c84-f2c63fd2074c",
   "metadata": {},
   "outputs": [],
   "source": []
  },
  {
   "cell_type": "markdown",
   "id": "5f45da68-9fac-415e-be99-c52bb080a8ac",
   "metadata": {},
   "source": [
    "## Exercice 2"
   ]
  },
  {
   "cell_type": "markdown",
   "id": "83a7bede-ee0a-47ee-b81e-fac8ae014013",
   "metadata": {},
   "source": [
    "En vous inspirant de l'algorithme de **tri par fusion**, écrivez un algorithme récursif qui, pour une liste `tab` donnée en input, retourne une liste `tab_pairs_impairs` formée des éléments pairs de `tab` (non nécessairement triés) suivis des éléments impairs de `tab` (non nécessairement triés).  \n",
    "\n",
    "Au final, votre algorithme devra permettre d'exécuter le code donné la cellule ci-dessous."
   ]
  },
  {
   "cell_type": "code",
   "execution_count": null,
   "id": "bd2b732f-9196-484d-968a-b913e44f209a",
   "metadata": {},
   "outputs": [],
   "source": []
  },
  {
   "cell_type": "code",
   "execution_count": null,
   "id": "a8d7dc58-dd73-4aec-a991-6d838cdf0784",
   "metadata": {},
   "outputs": [],
   "source": []
  },
  {
   "cell_type": "code",
   "execution_count": null,
   "id": "87583f00-70c9-4694-ab6f-f107a7919db5",
   "metadata": {},
   "outputs": [],
   "source": [
    "liste = [38, 27, 43, 3, 9, 82, 10]\n",
    "\n",
    "liste_pairs_impair = tri_pair_impair(liste)\n",
    "\n",
    "print(liste_pairs_impairs)                    # Output : [38, 82, 10, 27, 43, 3, 9]\n",
    "\n",
    "# On remarque que les éléments pairs de la liste (non triés) \n",
    "# sont suivis des éléments impairs de la liste (non triés)..."
   ]
  },
  {
   "cell_type": "code",
   "execution_count": null,
   "id": "7b682c42-9915-41ed-86f4-d9af9dbe6d36",
   "metadata": {},
   "outputs": [],
   "source": []
  },
  {
   "cell_type": "markdown",
   "id": "eea4cb9c-6214-47ea-8754-6d5bd87be89d",
   "metadata": {},
   "source": [
    "## Exercice 3"
   ]
  },
  {
   "cell_type": "markdown",
   "id": "2e012bbf-f347-4aa1-a360-d4da00ddb867",
   "metadata": {},
   "source": [
    "Implémentez une **table de hachage** de taille $N$ dont la fonction de hachage est donéee par:\n",
    "$$\n",
    "f(x, i) = x + i \\text{ modulo } N\n",
    "$$\n",
    "Au final, votre classe devra permettre d'exécuter le code donné la cellule ci-dessous."
   ]
  },
  {
   "cell_type": "code",
   "execution_count": null,
   "id": "6feb21e9-c19c-48e8-b7d9-4bd88a28cb7a",
   "metadata": {},
   "outputs": [],
   "source": []
  },
  {
   "cell_type": "code",
   "execution_count": null,
   "id": "6f49a1f3-f86e-4354-8a9c-b7e061a9ddcc",
   "metadata": {},
   "outputs": [],
   "source": []
  },
  {
   "cell_type": "code",
   "execution_count": null,
   "id": "65c20b08-4e05-44c9-bdfc-dd5cd5578f25",
   "metadata": {},
   "outputs": [],
   "source": []
  },
  {
   "cell_type": "code",
   "execution_count": null,
   "id": "f2b21b6d-fb72-4a7a-9e3c-8c67a9d821f0",
   "metadata": {},
   "outputs": [],
   "source": [
    "# Exemple d'exécution\n",
    "t = TableHachage(10)\n",
    "\n",
    "t.inserer(2)\n",
    "t.inserer(2)\n",
    "t.inserer(3)\n",
    "\n",
    "t.table               # Ooutput : [None, None, None, 2, 2, 3, None, None, None, None]"
   ]
  },
  {
   "cell_type": "code",
   "execution_count": null,
   "id": "2bd8e2bd-996e-4f29-a13b-a28b1395b04f",
   "metadata": {},
   "outputs": [],
   "source": []
  }
 ],
 "metadata": {
  "kernelspec": {
   "display_name": "Python 3 (ipykernel)",
   "language": "python",
   "name": "python3"
  },
  "language_info": {
   "codemirror_mode": {
    "name": "ipython",
    "version": 3
   },
   "file_extension": ".py",
   "mimetype": "text/x-python",
   "name": "python",
   "nbconvert_exporter": "python",
   "pygments_lexer": "ipython3",
   "version": "3.9.5"
  }
 },
 "nbformat": 4,
 "nbformat_minor": 5
}
